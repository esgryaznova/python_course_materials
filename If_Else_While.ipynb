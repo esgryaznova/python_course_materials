{
 "cells": [
  {
   "cell_type": "markdown",
   "metadata": {
    "id": "iYI77HlhDJNI"
   },
   "source": [
    "# Условный оператор, цикл while"
   ]
  },
  {
   "cell_type": "markdown",
   "metadata": {
    "id": "1c_vgvcRDJNJ"
   },
   "source": [
    "# Условия"
   ]
  },
  {
   "cell_type": "markdown",
   "metadata": {
    "id": "zDeqzpPkDJNK"
   },
   "source": [
    "Условия это, наверное, душа программирования. Мы очень часто хотим, чтобы наша программа работала по разному в зависимости от происходящего. Алгоритмы, использующие условия, называют разветвляющимися, и для их понимания очень удобно рисовать блок-схемы (нет, они не остались в школе, если в коде много условий и разных действий по-прежнему очень помогает нарисовать на бумаге дерево). \n",
    "\n",
    "**Условия (`if`)** позволяют выполнять код только в случае истинности какого-то логического выражения.\n",
    "\n",
    "Проще говоря, \"если верно, что..., то сделать ...\".\n",
    "\n",
    "Самый простой пример использования `if` - это вывод какой-то фразы по условию."
   ]
  },
  {
   "cell_type": "code",
   "execution_count": null,
   "metadata": {
    "colab": {
     "base_uri": "https://localhost:8080/"
    },
    "id": "UWl3D4piDJNL",
    "outputId": "f14baf89-84e4-42b7-de66-de4e7582c0c7"
   },
   "outputs": [
    {
     "name": "stdout",
     "output_type": "stream",
     "text": [
      "That is true!\n"
     ]
    }
   ],
   "source": [
    "x = 1\n",
    "if x == 1:  # Выражение равно True, это условие истинное\n",
    "    print('That is true!')  # Фраза выводится"
   ]
  },
  {
   "cell_type": "code",
   "execution_count": null,
   "metadata": {
    "id": "6WqqqSHADJNM"
   },
   "outputs": [],
   "source": [
    "if x != 1:  # Выражение равно False, это условие ложное\n",
    "    print('That is true!')  # Фраза не выводится"
   ]
  },
  {
   "cell_type": "markdown",
   "metadata": {
    "id": "Rg7g5DYaDJNM"
   },
   "source": [
    "Обратите внимание, что код, который находится внутри условия, выделяется отступом в 4 пробела или табуляцией (работает не во всех IDE, но в Jupyter все будет хорошо).\n",
    "\n",
    "Иначе программа не поймет, что он относится к условию."
   ]
  },
  {
   "cell_type": "code",
   "execution_count": null,
   "metadata": {
    "colab": {
     "base_uri": "https://localhost:8080/",
     "height": 130
    },
    "id": "6tAOLffwDJNN",
    "outputId": "7ddba1b7-d5e2-4c10-d94c-0493334db8b2"
   },
   "outputs": [
    {
     "ename": "IndentationError",
     "evalue": "ignored",
     "output_type": "error",
     "traceback": [
      "\u001b[0;36m  File \u001b[0;32m\"<ipython-input-5-b1fb9bc19953>\"\u001b[0;36m, line \u001b[0;32m2\u001b[0m\n\u001b[0;31m    print('That is true!')\u001b[0m\n\u001b[0m        ^\u001b[0m\n\u001b[0;31mIndentationError\u001b[0m\u001b[0;31m:\u001b[0m expected an indented block\n"
     ]
    }
   ],
   "source": [
    "if x == 1:\n",
    "print('That is true!')"
   ]
  },
  {
   "cell_type": "markdown",
   "metadata": {
    "id": "Vx4-7KjDDJNO"
   },
   "source": [
    "А что делать, если в том случае, когда условие не истинное, мы тоже хотим совершать какое-то действие? Для этого у нас есть ключевое слово **`else` (\"то\")**. "
   ]
  },
  {
   "cell_type": "code",
   "execution_count": null,
   "metadata": {
    "colab": {
     "base_uri": "https://localhost:8080/"
    },
    "id": "96BoJSIVDJNO",
    "outputId": "66ec7b75-e5fe-41a4-b531-ce10fa3c4faa"
   },
   "outputs": [
    {
     "name": "stdout",
     "output_type": "stream",
     "text": [
      "That is false!\n"
     ]
    }
   ],
   "source": [
    "if x != 1:\n",
    "    print('That is true!')\n",
    "else:\n",
    "    print('That is false!')"
   ]
  },
  {
   "cell_type": "markdown",
   "metadata": {
    "id": "hUigITIDDJNP"
   },
   "source": [
    "Мы разобрались, как поступать, если у нас два варианта действий, но их может быть и больше.\n",
    "\n",
    "Для примера давайте решим простую задачу - найти минимум из двух введенных чисел. Пока ничего нового:"
   ]
  },
  {
   "cell_type": "code",
   "execution_count": 1,
   "metadata": {
    "colab": {
     "base_uri": "https://localhost:8080/"
    },
    "id": "BZuyqwTZDJNP",
    "outputId": "bd230341-1162-4f51-c7ee-76f5141c941c"
   },
   "outputs": [
    {
     "name": "stdout",
     "output_type": "stream",
     "text": [
      "Введите первое число: 1\n",
      "Введите второе число: 5\n",
      "Минимум равен 1\n"
     ]
    }
   ],
   "source": [
    "a = int(input('Введите первое число: '))\n",
    "b = int(input('Введите второе число: '))\n",
    "if a < b:\n",
    "    minimum = a\n",
    "else:\n",
    "    minimum = b\n",
    "print('Минимум равен', minimum)"
   ]
  },
  {
   "cell_type": "markdown",
   "metadata": {
    "id": "PVZqXYFNDJNQ"
   },
   "source": [
    "А теперь усложним задание, добавив третий вариант развития событий - если числа равны, будем печатать *'Равные числа'*.\n",
    "\n",
    "Можно решить эту задачу с помощью вложенных условий:"
   ]
  },
  {
   "cell_type": "code",
   "execution_count": null,
   "metadata": {
    "colab": {
     "base_uri": "https://localhost:8080/"
    },
    "id": "1xbQlg0LDJNQ",
    "outputId": "25190b82-15a9-4082-cf85-0c23d7974b4f"
   },
   "outputs": [
    {
     "name": "stdout",
     "output_type": "stream",
     "text": [
      "Введите первое число: 2\n",
      "Введите второе число: 2\n",
      "Равные числа: 2\n"
     ]
    }
   ],
   "source": [
    "a = int(input('Введите первое число: '))\n",
    "b = int(input('Введите второе число: '))\n",
    "if a < b: \n",
    "    print(a)\n",
    "else:\n",
    "    if a > b: # обратите внимание, здесь одно условие находится внутри другого, и код ниже будет писаться после двойного отступа\n",
    "        print(b)\n",
    "    else:\n",
    "        print('Равные числа:', a)"
   ]
  },
  {
   "cell_type": "markdown",
   "metadata": {
    "id": "-apLWq76DJNR"
   },
   "source": [
    "Неплохо, но можно упростить это решение с помощью конструкции **`else` `if` (или `elif`)**, которая позволяет в случае ложности условия сразу же написать еще одну проверку.\n",
    "\n",
    "Вот как будет выглядеть решение нашей задачи с помощью `elif`:"
   ]
  },
  {
   "cell_type": "code",
   "execution_count": null,
   "metadata": {
    "colab": {
     "base_uri": "https://localhost:8080/"
    },
    "id": "inBZgMPIDJNR",
    "outputId": "35dbb53a-1463-4654-fed6-961060027434"
   },
   "outputs": [
    {
     "name": "stdout",
     "output_type": "stream",
     "text": [
      "Введите первое число: 3\n",
      "Введите второе число: 3\n",
      "Равные числа: 3\n"
     ]
    }
   ],
   "source": [
    "a = int(input('Введите первое число: '))\n",
    "b = int(input('Введите второе число: '))\n",
    "if a < b: \n",
    "    print(a)\n",
    "elif a > b: #if not (a<b)\n",
    "    print(b)\n",
    "else:\n",
    "    print('Равные числа:', a)"
   ]
  },
  {
   "cell_type": "markdown",
   "metadata": {
    "id": "dpp95noHDJNS"
   },
   "source": [
    "## Task #1"
   ]
  },
  {
   "cell_type": "markdown",
   "metadata": {
    "id": "ahNw__GEDJNS"
   },
   "source": [
    "### Распродажа\n",
    "\n",
    "В магазине проходит акция:\n",
    "* На все товары дешевле 1000 рублей скидка 15%\n",
    "* На все товары дороже 1000, но дешевле 5000 рублей скидка 20%\n",
    "* На все товары дороже 5000 рублей скидка 25%\n",
    "\n",
    "**Ввод**  \n",
    "Целое неотрицательное число - цена товара в рублях\n",
    "\n",
    "**Вывод**  \n",
    "Целое неотрицательное число - скидка на товар в рублях"
   ]
  },
  {
   "cell_type": "code",
   "execution_count": 16,
   "metadata": {
    "colab": {
     "base_uri": "https://localhost:8080/"
    },
    "id": "mB_hL0AmDJNT",
    "outputId": "ef1720bc-6851-425b-da81-c0d452238b42"
   },
   "outputs": [
    {
     "name": "stdout",
     "output_type": "stream",
     "text": [
      "Введите цену: 2000\n",
      "400.0\n"
     ]
    }
   ],
   "source": [
    "a = int(input('Введите цену: '))\n",
    "sale = 0\n",
    "if a <= 1000: \n",
    "    sale = a/100*15\n",
    "elif 1000 < a and a <= 5000: \n",
    "    sale = a/100*20\n",
    "else:\n",
    "    sale = a/100*25\n",
    "print(sale)"
   ]
  },
  {
   "cell_type": "code",
   "execution_count": 11,
   "metadata": {},
   "outputs": [
    {
     "name": "stdout",
     "output_type": "stream",
     "text": [
      "Введите цену: 1000\n",
      "850.0\n"
     ]
    }
   ],
   "source": [
    "a = int(input('Введите цену: '))\n",
    "if a <= 1000: \n",
    "    a= a-a/100*15\n",
    "elif 1000 < a <= 5000: \n",
    "     a= a-a/100*20\n",
    "else:\n",
    "    a = a-a/100*25\n",
    "print(a)"
   ]
  },
  {
   "cell_type": "markdown",
   "metadata": {
    "id": "gLrMjv9BDJNT"
   },
   "source": [
    "# Цикл while"
   ]
  },
  {
   "cell_type": "markdown",
   "metadata": {
    "id": "OjBSSFiyDJNU"
   },
   "source": [
    "Довольно часто задачи требуют от нас несколько раз выполнить однотипный код.\n",
    "\n",
    "Если писать несколько раз одни и те же строки, это загромождает программу. Иногда несколько раз превращается в много (100 или 10000).\n",
    "А иногда это число вообще зависит от параметров ввода.\n",
    "\n",
    "Справиться с этим помогают **циклы**. На этом семинаре мы поработаем с циклом **`while` (пока)**"
   ]
  },
  {
   "cell_type": "markdown",
   "metadata": {
    "id": "PmpkZqFUDJNU"
   },
   "source": [
    "Прицип использования цикла while: записываем логическое выражение и некоторый код. Код будет выполняться до тех пор, пока логическое выражение верно.\n",
    "\n",
    "Например, давайте напечатаем все целые числа от 1 до 10."
   ]
  },
  {
   "cell_type": "code",
   "execution_count": 17,
   "metadata": {
    "colab": {
     "base_uri": "https://localhost:8080/"
    },
    "id": "z5_n4cQHDJNU",
    "outputId": "bb91db78-e694-43d3-e9af-209093d0f60a"
   },
   "outputs": [
    {
     "name": "stdout",
     "output_type": "stream",
     "text": [
      "1\n"
     ]
    }
   ],
   "source": [
    "i = 1 \n",
    "while i <= 10:\n",
    "    print(i) \n",
    "    i += 1 \n",
    "    break"
   ]
  },
  {
   "cell_type": "code",
   "execution_count": 19,
   "metadata": {},
   "outputs": [
    {
     "name": "stdout",
     "output_type": "stream",
     "text": [
      "1\n",
      "2\n",
      "3\n",
      "4\n",
      "5\n",
      "6\n",
      "7\n",
      "8\n",
      "9\n",
      "10\n"
     ]
    }
   ],
   "source": [
    "#то же самое\n",
    "i = 1 \n",
    "while i <= 10:\n",
    "    print(i) \n",
    "    i = i + 1"
   ]
  },
  {
   "cell_type": "code",
   "execution_count": 20,
   "metadata": {},
   "outputs": [
    {
     "name": "stdout",
     "output_type": "stream",
     "text": [
      "2\n",
      "3\n",
      "4\n",
      "5\n",
      "6\n",
      "8\n",
      "9\n",
      "10\n",
      "11\n"
     ]
    }
   ],
   "source": [
    "i = 1 \n",
    "while i <= 10:\n",
    "    i = i + 1\n",
    "    if i == 7:\n",
    "        continue #заанчиваем итерацию и начинаем новую сначала\n",
    "    print(i)"
   ]
  },
  {
   "cell_type": "code",
   "execution_count": 21,
   "metadata": {},
   "outputs": [
    {
     "name": "stdout",
     "output_type": "stream",
     "text": [
      "2\n",
      "3\n",
      "4\n",
      "5\n",
      "6\n"
     ]
    }
   ],
   "source": [
    "i = 1 \n",
    "while i <= 10:\n",
    "    i = i + 1\n",
    "    if i == 7:\n",
    "        break\n",
    "    print(i)"
   ]
  },
  {
   "cell_type": "code",
   "execution_count": 23,
   "metadata": {},
   "outputs": [
    {
     "ename": "SyntaxError",
     "evalue": "invalid syntax (<ipython-input-23-367f43d32730>, line 1)",
     "output_type": "error",
     "traceback": [
      "\u001b[1;36m  File \u001b[1;32m\"<ipython-input-23-367f43d32730>\"\u001b[1;36m, line \u001b[1;32m1\u001b[0m\n\u001b[1;33m    if a >= 0 and a <=15 and a/2 = int\u001b[0m\n\u001b[1;37m                                 ^\u001b[0m\n\u001b[1;31mSyntaxError\u001b[0m\u001b[1;31m:\u001b[0m invalid syntax\n"
     ]
    }
   ],
   "source": []
  },
  {
   "cell_type": "markdown",
   "metadata": {
    "id": "-xsFtakADJNV"
   },
   "source": [
    "Здесь мы использовали запись `i += 1`. Она эквивалентна `i = i + 1`.  \n",
    "Аналогично можно записывать и другие арифметические операции: например, `-=`"
   ]
  },
  {
   "cell_type": "markdown",
   "metadata": {
    "id": "ldhbPmeGDJNV"
   },
   "source": [
    "Обратите внимание, что код внутри цикла (тот, который мы хотим повторно выполнять), выделяется отступом."
   ]
  },
  {
   "cell_type": "markdown",
   "metadata": {
    "id": "wE8sRsKzDJNV"
   },
   "source": [
    "## Операторы break и continue."
   ]
  },
  {
   "cell_type": "markdown",
   "metadata": {
    "id": "fewdNAzBDJNW"
   },
   "source": [
    "Циклами можно управлять с помощью операторов **`break`**, **`continue`**."
   ]
  },
  {
   "cell_type": "markdown",
   "metadata": {
    "id": "CFla2D7nDJNW"
   },
   "source": [
    "**`break`** внутри цикла позволяет прервать его выполнение и сразу же перейти к коду, который идет после цикла (либо завершить программу).  \n",
    "\n",
    "В этом случае мы можем написать сразу после цикла секцию **`else`** (синтаксис при этом такой же, как и в условиях).  \n",
    "Код, написанный после **`else`**, будет выполняться, если цикл завершился \"естественным путем\" (т.е. не был прерван с помощью `break`)."
   ]
  },
  {
   "cell_type": "markdown",
   "metadata": {
    "id": "ggOESFHqDJNX"
   },
   "source": [
    "## Task #2\n",
    "\n",
    "Рассмотрим пример задачи, которую можно решить с использованием `break`. \n",
    "\n",
    "Пусть студент сдал 5 предметов во время сессии и мы хотим узнать, есть ли у него пересдачи\n",
    "\n",
    "**Формат ввода**  \n",
    "До пяти оценок от 1 до 10\n",
    "\n",
    "**Формат вывода**  \n",
    "Если хотя бы одна из оценок меньше 4, завершаем программу и печатаем 'YES' (пересдачи есть)  \n",
    "Если все пять оценок больше 3, печатаем 'NO' (студент закрыл сессию без пересдач)"
   ]
  },
  {
   "cell_type": "code",
   "execution_count": 35,
   "metadata": {
    "colab": {
     "base_uri": "https://localhost:8080/"
    },
    "id": "jYdoA8t1DJNX",
    "outputId": "2ee83093-c8d5-4c95-b368-8099a10bf834"
   },
   "outputs": [
    {
     "name": "stdout",
     "output_type": "stream",
     "text": [
      "0\n",
      "2\n",
      "4\n",
      "6\n",
      "8\n",
      "10\n",
      "12\n",
      "14\n"
     ]
    }
   ],
   "source": [
    "index_while = 0\n",
    "value = 0\n",
    "while index_while <= 15: #технически пройти 15 значений\n",
    "    if value % 2 == 0: #условие\n",
    "        print(value)\n",
    "    index_while = index_while +1 \n",
    "    value = value +1"
   ]
  },
  {
   "cell_type": "code",
   "execution_count": 41,
   "metadata": {},
   "outputs": [
    {
     "name": "stdout",
     "output_type": "stream",
     "text": [
      "Введите оценку: 5\n",
      "Введите оценку: 8\n",
      "Введите оценку: 9\n",
      "Введите оценку: 10\n",
      "Введите оценку: 7\n",
      "No\n"
     ]
    }
   ],
   "source": [
    "index_while = 0 #техническая переменная\n",
    "threshold = 4 #порог сдачи экзамена\n",
    "while index_while < 5:\n",
    "    grad = int(input(\"Введите оценку: \"))\n",
    "    if grad <  threshold:\n",
    "        print(\"yes\")\n",
    "        break\n",
    "    index_while = index_while + 1 \n",
    "else:\n",
    "    print(\"No\")\n"
   ]
  },
  {
   "cell_type": "code",
   "execution_count": 28,
   "metadata": {},
   "outputs": [
    {
     "name": "stdout",
     "output_type": "stream",
     "text": [
      "0\n",
      "2\n",
      "4\n",
      "6\n",
      "8\n",
      "10\n",
      "12\n",
      "14\n"
     ]
    }
   ],
   "source": [
    "i = 0\n",
    "while i<=15:\n",
    "    if i%2 == 0:\n",
    "        print(i)\n",
    "        i += 1\n",
    "    else:\n",
    "        i += 1"
   ]
  },
  {
   "cell_type": "markdown",
   "metadata": {
    "id": "bYa2rKsDDJNY"
   },
   "source": [
    "Оператор **continue** позволяет сразу же перейти на новую итерацию цикла, не выполняя код, который написан внутри цикла ниже его."
   ]
  },
  {
   "cell_type": "markdown",
   "metadata": {},
   "source": [
    "## Task #3"
   ]
  },
  {
   "cell_type": "markdown",
   "metadata": {
    "id": "CrurAnrCDJNY"
   },
   "source": [
    "Изменим условие задачи - теперь будем считать количество пересдач у студента"
   ]
  },
  {
   "cell_type": "code",
   "execution_count": 46,
   "metadata": {
    "colab": {
     "base_uri": "https://localhost:8080/"
    },
    "id": "rlkdSkaaDJNZ",
    "outputId": "00d9994e-9c39-4e35-8518-0efb77619193"
   },
   "outputs": [
    {
     "name": "stdout",
     "output_type": "stream",
     "text": [
      "Введите оценку: 5\n",
      "Введите оценку: 6\n",
      "Введите оценку: 1\n",
      "Введите оценку: 8\n",
      "Введите оценку: 3\n",
      "2\n"
     ]
    }
   ],
   "source": [
    "index_while = 0 #техническая переменная\n",
    "threshold = 4 #порог сдачи экзамена\n",
    "n_exams = 0 #кол-во пересдач\n",
    "while index_while < 5:\n",
    "    grad = int(input(\"Введите оценку: \"))\n",
    "    if grad <  threshold:\n",
    "        n_exams = n_exams + 1 \n",
    "    index_while = index_while + 1\n",
    "print(n_exams)"
   ]
  },
  {
   "cell_type": "markdown",
   "metadata": {
    "id": "lRluYab0DJNc"
   },
   "source": [
    "##  Task #4\n",
    "Вася начал бегать и в первый день он пробежал `X` километров и выдохся. Вася поставил себе цель `Y` километров и решил узнать, когда он ее достигнет, если каждый день будет бегать дистанцию на 10% больше, чем в предыдущий.\n",
    "\n",
    "**Формат ввода**\n",
    "\n",
    "Программа получает на вход целые числа X, Y\n",
    "\n",
    "**Формат вывода**\n",
    "\n",
    "Одно целое число (день, когда Вася пробежит свою цель)\n",
    "\n",
    "**Примеры**  \n",
    "**Ввод:**  \n",
    "10  \n",
    "21\n",
    "\n",
    "**Вывод:**  \n",
    "9"
   ]
  },
  {
   "cell_type": "code",
   "execution_count": 49,
   "metadata": {
    "colab": {
     "base_uri": "https://localhost:8080/"
    },
    "id": "U2Yqn9LADJNd",
    "outputId": "f2d46677-717b-4bca-c91a-9d4ec40d32b1"
   },
   "outputs": [
    {
     "name": "stdout",
     "output_type": "stream",
     "text": [
      "Введите целое число: 10\n",
      "Введите целое число больше x: 21\n",
      "8\n"
     ]
    }
   ],
   "source": [
    "x = int(input('Введите целое число: '))\n",
    "y = int(input(\"Введите целое число больше x: \"))\n",
    "\n",
    "day = 0\n",
    "\n",
    "while x < y:\n",
    "    day += 1\n",
    "    x = 1.1 * x\n",
    "print(day)\n"
   ]
  },
  {
   "cell_type": "markdown",
   "metadata": {
    "id": "MvErnJPFDJNe"
   },
   "source": [
    "## Task #5\n",
    "\n",
    "## Cложные проценты\n",
    "Процентная ставка по вкладу составляет `P` процентов годовых, которые прибавляются к сумме вклада через год. Вклад составляет `X` рублей `Y` копеек. Дробное число копеек по истечении года отбрасывается. `K` - количество лет, на которые положен вклад. Выведите величину вклада в рублях\n",
    "\n",
    "**Формат ввода**\n",
    "\n",
    "Программа получает на вход целые числа `P`, `X`, `Y`, `K`.\n",
    "\n",
    "**Формат вывода**\n",
    "\n",
    "Программа должна вывести два числа: величину вклада через `K` лет в рублях и копейках. Перерасчет суммы вклада (с отбрасыванием дробных частей копеек) происходит ежегодно.\n",
    "\n",
    "**Примеры**  \n",
    "Тест 1  \n",
    "**Входные данные:**  \n",
    "12  \n",
    "179  \n",
    "0  \n",
    "5  \n",
    "\n",
    "**Вывод программы:**  \n",
    "315 43\n",
    "\n",
    "Тест 2  \n",
    "**Входные данные:**  \n",
    "13  \n",
    "179  \n",
    "0  \n",
    "100  \n",
    "\n",
    "**Вывод программы:**   \n",
    "36360285 50\n",
    "\n",
    "Тест 3  \n",
    "**Входные данные:**   \n",
    "1  \n",
    "1  \n",
    "0  \n",
    "1000  \n",
    "\n",
    "**Вывод программы:**  \n",
    "11881 92"
   ]
  },
  {
   "cell_type": "code",
   "execution_count": null,
   "metadata": {},
   "outputs": [],
   "source": []
  },
  {
   "cell_type": "markdown",
   "metadata": {},
   "source": [
    "## Task #6\n",
    "\n",
    "Write a Python program to get the Fibonacci series between `0` to `50`.\n",
    "\n",
    "Note: The Fibonacci Sequence is the series of numbers:\n",
    "\n",
    "`0, 1, 1, 2, 3, 5, 8, 13, 21, ....`\n",
    "\n",
    "\n",
    "Every next number is found by adding up the two numbers before it.\n",
    "\n",
    "Expected Output : `1 1 2 3 5 8 13 21 34`\n",
    "\n",
    "Input: 8\n",
    "\n",
    "Expected Output: 21"
   ]
  },
  {
   "cell_type": "code",
   "execution_count": 53,
   "metadata": {},
   "outputs": [
    {
     "name": "stdout",
     "output_type": "stream",
     "text": [
      "Введите целое число: 7\n",
      "13\n"
     ]
    }
   ],
   "source": [
    "x = int(input('Введите целое число: '))\n",
    "number_before = 0\n",
    "number_current = 1\n",
    "result = 0\n",
    "index = 1\n",
    "\n",
    "while index < x:\n",
    "    result = number_before + number_current\n",
    "    number_before = number_current\n",
    "    number_current = result\n",
    "    index += 1\n",
    "print(result)"
   ]
  },
  {
   "cell_type": "code",
   "execution_count": 55,
   "metadata": {},
   "outputs": [
    {
     "name": "stdout",
     "output_type": "stream",
     "text": [
      "Введите целое число: 8\n",
      "21\n"
     ]
    }
   ],
   "source": [
    "x = int(input('Введите целое число: '))\n",
    "number_before = 0\n",
    "number_current = 1\n",
    "index = 1\n",
    "\n",
    "while index < x:\n",
    "    number_before, number_current = number_current, number_before + number_current\n",
    "\n",
    "    index += 1\n",
    "print(number_current)"
   ]
  },
  {
   "cell_type": "markdown",
   "metadata": {
    "colab": {
     "base_uri": "https://localhost:8080/"
    },
    "id": "KIYLXgJNDJNe",
    "outputId": "80e1f45b-acbe-436a-9ff0-a25f4bf2bcf4"
   },
   "source": [
    " # Home tasks"
   ]
  },
  {
   "cell_type": "markdown",
   "metadata": {},
   "source": [
    "## Task #1\n",
    "Write a Python program to find those numbers which are divisible by `7` and multiple of `5`, between `1500` and `2700` (both included)."
   ]
  },
  {
   "cell_type": "code",
   "execution_count": 29,
   "metadata": {},
   "outputs": [
    {
     "name": "stdout",
     "output_type": "stream",
     "text": [
      "1505\n",
      "1540\n",
      "1575\n",
      "1610\n",
      "1645\n",
      "1680\n",
      "1715\n",
      "1750\n",
      "1785\n",
      "1820\n",
      "1855\n",
      "1890\n",
      "1925\n",
      "1960\n",
      "1995\n",
      "2030\n",
      "2065\n",
      "2100\n",
      "2135\n",
      "2170\n",
      "2205\n",
      "2240\n",
      "2275\n",
      "2310\n",
      "2345\n",
      "2380\n",
      "2415\n",
      "2450\n",
      "2485\n",
      "2520\n",
      "2555\n",
      "2590\n",
      "2625\n",
      "2660\n",
      "2695\n"
     ]
    }
   ],
   "source": [
    "for x in range(1500,2701):\n",
    "    if x % 7 == 0 and  x % 5 == 0:\n",
    "        print(x)"
   ]
  },
  {
   "cell_type": "markdown",
   "metadata": {},
   "source": [
    "## Task #2\n",
    "Write a Python program to construct the following pattern, using a nested for loop."
   ]
  },
  {
   "cell_type": "code",
   "execution_count": 6,
   "metadata": {},
   "outputs": [],
   "source": [
    "# * \n",
    "# * * \n",
    "# * * * \n",
    "# * * * * \n",
    "# * * * * * \n",
    "# * * * * \n",
    "# * * * \n",
    "# * * \n",
    "# *"
   ]
  },
  {
   "cell_type": "code",
   "execution_count": 3,
   "metadata": {},
   "outputs": [],
   "source": [
    "# не работает\n",
    "#i = 0\n",
    "#while index_while <= 5:\n",
    "#    print(\"* \", end = \"\")\n",
    "#print(\"\")"
   ]
  },
  {
   "cell_type": "markdown",
   "metadata": {},
   "source": [
    "## Task #3 "
   ]
  },
  {
   "cell_type": "markdown",
   "metadata": {},
   "source": [
    "Write a Python program that prints all the numbers from `0` to `6` except `3` and `6`.\n",
    "\n",
    "Note : Use `continue` statement."
   ]
  },
  {
   "cell_type": "code",
   "execution_count": 41,
   "metadata": {},
   "outputs": [
    {
     "name": "stdout",
     "output_type": "stream",
     "text": [
      "1\n",
      "2\n",
      "4\n",
      "5\n"
     ]
    }
   ],
   "source": [
    "i = 0 \n",
    "while i <= 5:\n",
    "    i = i + 1\n",
    "    if i == 3 or i == 6:\n",
    "        continue #заанчиваем итерацию и начинаем новую сначала\n",
    "    print(i)"
   ]
  },
  {
   "cell_type": "markdown",
   "metadata": {},
   "source": [
    "## Task #4 \n",
    "Write a Python program to check a triangle is equilateral, isosceles or scalene.\n",
    "\n",
    "Note :\n",
    "* An equilateral triangle is a triangle in which all three sides are equal.\n",
    "* A scalene triangle is a triangle that has three unequal sides.\n",
    "* An isosceles triangle is a triangle with (at least) two equal sides.\n",
    "\n",
    "\n",
    "Expected Output:\n",
    "\n",
    "`Input lengths of the triangle sides:`                                    \n",
    "`x: 6`                                                                    \n",
    "`y: 8`                                                                    \n",
    "`z: 12`                                                                   \n",
    "`Scalene triangle` \n"
   ]
  },
  {
   "cell_type": "code",
   "execution_count": 2,
   "metadata": {},
   "outputs": [
    {
     "name": "stdout",
     "output_type": "stream",
     "text": [
      "Input lengths of the triangle sides: \n",
      "x: 5\n",
      "y: 5\n",
      "z: 5\n",
      "Equilateral triangle\n"
     ]
    }
   ],
   "source": [
    "print(\"Input lengths of the triangle sides: \")\n",
    "x = int(input(\"x: \"))\n",
    "y = int(input(\"y: \"))\n",
    "z = int(input(\"z: \"))\n",
    "\n",
    "if x == y == z:\n",
    "    print(\"Equilateral triangle\")\n",
    "elif x==y or y==z or z==x:\n",
    "    print(\"isosceles triangle\")\n",
    "else:\n",
    "    print(\"Scalene triangle\")"
   ]
  },
  {
   "cell_type": "markdown",
   "metadata": {},
   "source": [
    "## Task #5\n"
   ]
  },
  {
   "cell_type": "markdown",
   "metadata": {},
   "source": [
    "Write a Python program to get next day of a given date.\n",
    "\n",
    "Expected Output:\n",
    "\n",
    "`Input a year: 2016`                                                     \n",
    "`Input a month [1-12]: 08`                                           \n",
    "`Input a day [1-31]: 23`                                                  \n",
    "`The next date is [yyyy-mm-dd] 2016-8-24`  "
   ]
  },
  {
   "cell_type": "code",
   "execution_count": 1,
   "metadata": {},
   "outputs": [
    {
     "name": "stdout",
     "output_type": "stream",
     "text": [
      "Input a year: 2016\n",
      "Input a month [1-12]: 08\n",
      "Input a day [1-31]: 23\n",
      "The next date is [yyyy-mm-dd] 2016-8-24.\n"
     ]
    }
   ],
   "source": [
    "year = int(input(\"Input a year: \"))\n",
    "\n",
    "if (year % 4 == 0):\n",
    "    leap_year = True\n",
    "else:\n",
    "    leap_year = False\n",
    "\n",
    "month = int(input(\"Input a month [1-12]: \"))\n",
    "\n",
    "if month in (1, 3, 5, 7, 8, 10, 12):\n",
    "    month_length = 31\n",
    "elif month == 2:\n",
    "    if leap_year:\n",
    "        month_length = 29\n",
    "    else:\n",
    "        month_length = 28\n",
    "else:\n",
    "    month_length = 30\n",
    "\n",
    "\n",
    "day = int(input(\"Input a day [1-31]: \"))\n",
    "\n",
    "if day < month_length:\n",
    "    day += 1\n",
    "else:\n",
    "    day = 1\n",
    "    if month == 12:\n",
    "        month = 1\n",
    "        year += 1\n",
    "    else:\n",
    "        month += 1\n",
    "print(\"The next date is [yyyy-mm-dd] %d-%d-%d.\" % (year, month, day))"
   ]
  },
  {
   "cell_type": "code",
   "execution_count": null,
   "metadata": {},
   "outputs": [],
   "source": []
  }
 ],
 "metadata": {
  "colab": {
   "collapsed_sections": [],
   "name": "If_Else.ipynb",
   "provenance": []
  },
  "kernelspec": {
   "display_name": "Python 3",
   "language": "python",
   "name": "python3"
  },
  "language_info": {
   "codemirror_mode": {
    "name": "ipython",
    "version": 3
   },
   "file_extension": ".py",
   "mimetype": "text/x-python",
   "name": "python",
   "nbconvert_exporter": "python",
   "pygments_lexer": "ipython3",
   "version": "3.8.5"
  }
 },
 "nbformat": 4,
 "nbformat_minor": 1
}
