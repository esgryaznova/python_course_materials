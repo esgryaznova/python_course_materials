{
 "cells": [
  {
   "cell_type": "markdown",
   "metadata": {},
   "source": [
    "# 0. Наибольший общий делитель - 1 балл\n",
    "Напишите функцию, которая на вход принимает два целых числа, а на выходе отдает их наибольших общий делитель. \n",
    "\n",
    "Пример\n",
    "\n",
    "Ввод \n",
    "\n",
    "`lcd(10,2)`\n",
    "\n",
    "Вывод\n",
    "\n",
    "`2`\n",
    "\n",
    "Пример\n",
    "\n",
    "Ввод \n",
    "\n",
    "`lcd(10,25)`\n",
    "\n",
    "Вывод\n",
    "\n",
    "`5`"
   ]
  },
  {
   "cell_type": "code",
   "execution_count": 1,
   "metadata": {},
   "outputs": [],
   "source": [
    "def lcd(x, y):\n",
    "    if x % y == 0:\n",
    "        return y\n",
    "    for k in range(int(y / 2), 0, -1):\n",
    "        if x % k == 0 and y % k == 0:\n",
    "            lcd = k\n",
    "            break\n",
    "    return lcd"
   ]
  },
  {
   "cell_type": "code",
   "execution_count": 2,
   "metadata": {},
   "outputs": [
    {
     "data": {
      "text/plain": [
       "5"
      ]
     },
     "execution_count": 2,
     "metadata": {},
     "output_type": "execute_result"
    }
   ],
   "source": [
    "lcd(10,25)"
   ]
  },
  {
   "cell_type": "markdown",
   "metadata": {},
   "source": [
    "# 1. Задачка про перевод из `camel_case`'a в `snake_case` - 1.5 балла\n",
    " Напишите функцию, которая на вход принимает строку, записанную в `CamelCase`, а переводит ее в `snake_case`.\n",
    " Подсказка: идите по строке циклом, обрабатывайте каждый символ, если символ заглавный, к обработанным ранее добавляйте нижнее подчеркивание и нынешний переводите в `lower case` \n",
    " \n",
    " Пример:\n",
    "\n",
    "**Вход**: `'camelCaseVar'`\n",
    "\n",
    "**Выход**: `'camel_сase_var'`"
   ]
  },
  {
   "cell_type": "code",
   "execution_count": 3,
   "metadata": {},
   "outputs": [],
   "source": [
    "def to_snake_case(string):\n",
    "    output = ''\n",
    "    for i in range(len(string)):\n",
    "        if i < len(string) - 1:\n",
    "            exception = (\n",
    "                string[i+1] == \"_\" or\n",
    "                string[i+1] == \" \" or\n",
    "                string[i+1].isupper()\n",
    "            )\n",
    "        if (string[i] == \" \" or string[i] == \"_\") and exception:\n",
    "            continue\n",
    "        elif (string[i] == \" \" or string[i] == \"_\"):\n",
    "            output += \"_\"\n",
    "        elif string[i].isupper():\n",
    "            output += \"_\"+string[i].lower()\n",
    "        else:\n",
    "            output += string[i]\n",
    "    if output[0] == \"_\":\n",
    "        output = output[1:]\n",
    "    return output"
   ]
  },
  {
   "cell_type": "code",
   "execution_count": 4,
   "metadata": {},
   "outputs": [
    {
     "data": {
      "text/plain": [
       "'we_love_to_see'"
      ]
     },
     "execution_count": 4,
     "metadata": {},
     "output_type": "execute_result"
    }
   ],
   "source": [
    "to_snake_case('WeLoveToSee')"
   ]
  },
  {
   "cell_type": "code",
   "execution_count": null,
   "metadata": {},
   "outputs": [],
   "source": [
    "#import re\n",
    "#def to_snake_case(string):\n",
    "#    string = re.sub(r'(?<!^)(?=[A-Z])', '_', string).lower()\n",
    "#    return string"
   ]
  },
  {
   "cell_type": "markdown",
   "metadata": {},
   "source": [
    "# 2. Про Поросёнка Петра - 2 балла\n",
    "На плоскости в точке `(0,0)` стоит Поросёнок Пётр. Он умеет ходить налево, направо, вверх и вниз. Расстояние его прохода в какую-либо сторону измеряется в шагах. Когда он идет вправо, его первая координата увеличивается, когда влево - уменьшается. Когда он идет вверх, его вторая координата увеличивается, а когда вниз - уменьшается.\n",
    "С клавиатуры считывается число `N` - число ходов, которые сделает Пётр. После чего на каждом шаге спрашивается, сколько шагов и в какую сторону за этот ход Пётр сделает. Так происходит, пока Пётр не осуществит все N ходов.\n",
    "Программа должна вывести, сколько шагов Пётр должен был бы сделать, чтобы кратчайшим путем прибыть из свое начальной точки `(0,0)` в свою конечную точку. \n",
    "\n",
    "Напоминание: Пётр умеет ходить только вверх-вниз, и влево-вправо, но не по диагонали.\n",
    "\n",
    "Пример ввода:\n",
    "\n",
    "Введите N: `3`\n",
    "\n",
    "Ход 1: `Вверх 1`\n",
    "\n",
    "Ход 2: `Вниз 1`\n",
    "\n",
    "Ход 3: `Вверх 1`\n",
    "\n",
    "Пример вывода:\n",
    "`Пётр находится на расстоянии 1 от (0,0)`"
   ]
  },
  {
   "cell_type": "code",
   "execution_count": 7,
   "metadata": {},
   "outputs": [],
   "source": [
    "def petr_count(N):\n",
    "    x = 0\n",
    "    y = 0\n",
    "    for i in range(N):\n",
    "        move_1 = input(f\"Ход {i + 1}:\")\n",
    "        direction, coordinates = move_1.split()\n",
    "        if direction == 'Вверх':\n",
    "            y += int(coordinates)\n",
    "        elif direction == \"Вниз\":\n",
    "            y -= int(coordinates)\n",
    "        elif direction == \"Вправо\":\n",
    "            x += int(coordinates)\n",
    "        elif direction == \"Влево\":\n",
    "            x -= int(coordinates)\n",
    "    return f\"Пётр находится на расстоянии {x+y} от (0,0)\""
   ]
  },
  {
   "cell_type": "code",
   "execution_count": 8,
   "metadata": {},
   "outputs": [
    {
     "name": "stdout",
     "output_type": "stream",
     "text": [
      "Ход 1:Вверх 2\n",
      "Ход 2:Вниз 3\n",
      "Ход 3:Вниз 3\n"
     ]
    },
    {
     "data": {
      "text/plain": [
       "'Пётр находится на расстоянии -4 от (0,0)'"
      ]
     },
     "execution_count": 8,
     "metadata": {},
     "output_type": "execute_result"
    }
   ],
   "source": [
    "petr_count(3)"
   ]
  },
  {
   "cell_type": "markdown",
   "metadata": {},
   "source": [
    "# 3. Sort the keys of the dictionary from a to z.  - 0.5 балла"
   ]
  },
  {
   "cell_type": "code",
   "execution_count": 9,
   "metadata": {},
   "outputs": [],
   "source": [
    "d_= {\"tiramisu\":5, \"chocolate\":2, \"pudding\":3, \"cheesecake\":4}"
   ]
  },
  {
   "cell_type": "code",
   "execution_count": 10,
   "metadata": {},
   "outputs": [],
   "source": [
    "def dict_sort(d):\n",
    "    items = d.items()\n",
    "    sorted_items = sorted(items)\n",
    "    return sorted_items"
   ]
  },
  {
   "cell_type": "code",
   "execution_count": 11,
   "metadata": {},
   "outputs": [
    {
     "data": {
      "text/plain": [
       "[('cheesecake', 4), ('chocolate', 2), ('pudding', 3), ('tiramisu', 5)]"
      ]
     },
     "execution_count": 11,
     "metadata": {},
     "output_type": "execute_result"
    }
   ],
   "source": [
    "dict_sort(d_)"
   ]
  },
  {
   "cell_type": "markdown",
   "metadata": {},
   "source": [
    "# 4. Compare three values, return true only if 2 or more values are equal - 0.5 балла"
   ]
  },
  {
   "cell_type": "code",
   "execution_count": 12,
   "metadata": {},
   "outputs": [],
   "source": [
    "def compare(x, y, z):\n",
    "    if x == y or y == z or x == z:\n",
    "        return True\n",
    "    else:\n",
    "        return False"
   ]
  },
  {
   "cell_type": "code",
   "execution_count": 13,
   "metadata": {},
   "outputs": [
    {
     "data": {
      "text/plain": [
       "True"
      ]
     },
     "execution_count": 13,
     "metadata": {},
     "output_type": "execute_result"
    }
   ],
   "source": [
    "compare(2,2,5)"
   ]
  },
  {
   "cell_type": "markdown",
   "metadata": {},
   "source": [
    "# 5. Given a list with pairs, sort on the sum of pairs - 0.5 балла"
   ]
  },
  {
   "cell_type": "code",
   "execution_count": 14,
   "metadata": {},
   "outputs": [],
   "source": [
    "x = [(3,6),(4,7),(5,9),(8,4),(3,1)]"
   ]
  },
  {
   "cell_type": "code",
   "execution_count": 15,
   "metadata": {},
   "outputs": [],
   "source": [
    "def sort_sum(x):\n",
    "    y = sorted(x, key = lambda i: (i[0]+i[1]))\n",
    "    return y"
   ]
  },
  {
   "cell_type": "code",
   "execution_count": 16,
   "metadata": {},
   "outputs": [
    {
     "data": {
      "text/plain": [
       "[(3, 1), (3, 6), (4, 7), (8, 4), (5, 9)]"
      ]
     },
     "execution_count": 16,
     "metadata": {},
     "output_type": "execute_result"
    }
   ],
   "source": [
    "sort_sum(x)"
   ]
  },
  {
   "cell_type": "markdown",
   "metadata": {},
   "source": [
    "# 6. Create a function that takes a list of numbers. Return the largest number in the list. - 0.5 балла"
   ]
  },
  {
   "cell_type": "code",
   "execution_count": 17,
   "metadata": {},
   "outputs": [
    {
     "ename": "SyntaxError",
     "evalue": "invalid character in identifier (<ipython-input-17-255a19dd6fbe>, line 1)",
     "output_type": "error",
     "traceback": [
      "\u001b[1;36m  File \u001b[1;32m\"<ipython-input-17-255a19dd6fbe>\"\u001b[1;36m, line \u001b[1;32m1\u001b[0m\n\u001b[1;33m    findLargestNum([4, 5, 1, 3]) ➞ 5\u001b[0m\n\u001b[1;37m                                 ^\u001b[0m\n\u001b[1;31mSyntaxError\u001b[0m\u001b[1;31m:\u001b[0m invalid character in identifier\n"
     ]
    }
   ],
   "source": [
    "findLargestNum([4, 5, 1, 3]) ➞ 5\n",
    "\n",
    "findLargestNum([300, 200, 600, 150]) ➞ 600\n",
    "\n",
    "findLargestNum([1000, 1001, 857, 1]) ➞ 1001"
   ]
  },
  {
   "cell_type": "code",
   "execution_count": 18,
   "metadata": {},
   "outputs": [],
   "source": [
    "def findLargestNum(list):\n",
    "    max = list[0]\n",
    "    for i in list:\n",
    "        if i > max:\n",
    "            max = i\n",
    "    return max"
   ]
  },
  {
   "cell_type": "code",
   "execution_count": 19,
   "metadata": {},
   "outputs": [
    {
     "data": {
      "text/plain": [
       "5"
      ]
     },
     "execution_count": 19,
     "metadata": {},
     "output_type": "execute_result"
    }
   ],
   "source": [
    "findLargestNum([4, 5, 1, 3])"
   ]
  },
  {
   "cell_type": "markdown",
   "metadata": {},
   "source": [
    "# 7. Create a function that takes a string and returns the concatenated first and last character. - 0.5 балла"
   ]
  },
  {
   "cell_type": "code",
   "execution_count": null,
   "metadata": {},
   "outputs": [],
   "source": [
    "repetition(\"ab\", 3) ➞ \"ababab\"\n",
    "\n",
    "repetition(\"kiwi\", 1) ➞ \"kiwi\"\n",
    "\n",
    "repetition(\"cherry\", 2) ➞ \"cherrycherry\""
   ]
  },
  {
   "cell_type": "code",
   "execution_count": 20,
   "metadata": {},
   "outputs": [],
   "source": [
    "def multiply(string, n):\n",
    "    output = 0\n",
    "    y = string * n\n",
    "    return y"
   ]
  },
  {
   "cell_type": "code",
   "execution_count": 21,
   "metadata": {},
   "outputs": [
    {
     "data": {
      "text/plain": [
       "'ababab'"
      ]
     },
     "execution_count": 21,
     "metadata": {},
     "output_type": "execute_result"
    }
   ],
   "source": [
    "multiply(\"ab\", 3)"
   ]
  },
  {
   "cell_type": "markdown",
   "metadata": {},
   "source": [
    "# 8. Create a function that takes a 2D list lst returns the sum of the minimum value in each row. - 0.5 балла"
   ]
  },
  {
   "cell_type": "code",
   "execution_count": null,
   "metadata": {},
   "outputs": [],
   "source": [
    "sum_minimums([\n",
    "  [1, 2, 3, 4, 5],\n",
    "  [5, 6, 7, 8, 9],\n",
    "  [20, 21, 34, 56, 100]\n",
    "] ➞ 26\n",
    "\n",
    "# minimum value of the first row is 1\n",
    "# minimum value of the second row is 5\n",
    "# minimum value of the third row is 20"
   ]
  },
  {
   "cell_type": "code",
   "execution_count": 22,
   "metadata": {},
   "outputs": [],
   "source": [
    "def sum_minimums(list):\n",
    "    y = 0\n",
    "    for i in list:\n",
    "        min = i[0]\n",
    "        for j in i:\n",
    "            if j < min:\n",
    "                min = j\n",
    "        y += min\n",
    "    return y"
   ]
  },
  {
   "cell_type": "code",
   "execution_count": 23,
   "metadata": {},
   "outputs": [
    {
     "data": {
      "text/plain": [
       "26"
      ]
     },
     "execution_count": 23,
     "metadata": {},
     "output_type": "execute_result"
    }
   ],
   "source": [
    "sum_minimums([\n",
    "  [1, 2, 3, 4, 5],\n",
    "  [5, 6, 7, 8, 9],\n",
    "  [20, 21, 34, 56, 100]\n",
    "])"
   ]
  },
  {
   "cell_type": "markdown",
   "metadata": {},
   "source": [
    "# 9. Create a function to return the amount of potatoes there are in a string. - 0.5 балла"
   ]
  },
  {
   "cell_type": "code",
   "execution_count": null,
   "metadata": {},
   "outputs": [],
   "source": [
    "potatoes(\"potato\") ➞ 1\n",
    "\n",
    "potatoes(\"potatopotato\") ➞ 2\n",
    "\n",
    "potatoes(\"potatoapple\") ➞ 1"
   ]
  },
  {
   "cell_type": "code",
   "execution_count": 24,
   "metadata": {},
   "outputs": [],
   "source": [
    "def find_potatoes(string):\n",
    "    x = 'potato'\n",
    "    string.count(x)\n",
    "    return string.count(x)"
   ]
  },
  {
   "cell_type": "code",
   "execution_count": 25,
   "metadata": {},
   "outputs": [
    {
     "data": {
      "text/plain": [
       "2"
      ]
     },
     "execution_count": 25,
     "metadata": {},
     "output_type": "execute_result"
    }
   ],
   "source": [
    "find_potatoes(\"potatopotato\")"
   ]
  },
  {
   "cell_type": "markdown",
   "metadata": {},
   "source": [
    "# 10. Create a function that takes a list of integers as an argument and returns a unique number from that list. All numbers except unique ones have the same number of occurrences in the list. - 0.5 балла"
   ]
  },
  {
   "cell_type": "code",
   "execution_count": null,
   "metadata": {},
   "outputs": [],
   "source": [
    "find_single_number([2, 2, 2, 3, 4, 4, 4]) ➞ 3\n",
    "\n",
    "find_single_number([2]) ➞ 2\n",
    "\n",
    "find_single_number([]) ➞ None\n",
    "\n",
    "find_single_number([7, 13, 3, 6, 5, 4, 4, 13, 5, 3, 6, 7, 6, 5, 3, 13, 4, 7, 13, 5, 7, 4, 3, 6, 8, 4, 3, 7, 5, 6, 13]) ➞ 8\n",
    "\n",
    "find_single_number([1, 2, 3, 6, 5, 4, 4, 2, 5, 3, 6, 1, 6, 5, 3, 2, 4, 1, 2, 5, 1, 4, 3, 6, 101, 4, 3, 1, 5, 6, 2]) ➞ 101\n"
   ]
  },
  {
   "cell_type": "code",
   "execution_count": 26,
   "metadata": {},
   "outputs": [],
   "source": [
    "def find_single_number(list):\n",
    "    y = set([x for x in list if list.count(x) == 1])\n",
    "    return y"
   ]
  },
  {
   "cell_type": "code",
   "execution_count": 27,
   "metadata": {},
   "outputs": [
    {
     "data": {
      "text/plain": [
       "{8}"
      ]
     },
     "execution_count": 27,
     "metadata": {},
     "output_type": "execute_result"
    }
   ],
   "source": [
    "find_single_number([7, 13, 3, 6, 5, 4, 4, 13, 5, 3, 6, 7, 6, 5, 3, 13, 4, 7, 13, 5, 7, 4, 3, 6, 8, 4, 3, 7, 5, 6, 13])"
   ]
  },
  {
   "cell_type": "markdown",
   "metadata": {},
   "source": [
    "# 11. Given a letter and a list of words, return whether the letter does not appear in any of the words. - 0.5 балла"
   ]
  },
  {
   "cell_type": "code",
   "execution_count": null,
   "metadata": {},
   "outputs": [],
   "source": [
    "forbidden_letter(\"r\", [\"rock\", \"paper\", \"scissors\"]) ➞ False\n",
    "\n",
    "forbidden_letter(\"a\", [\"spoon\", \"fork\", \"knife\"]) ➞ True\n",
    "\n",
    "forbidden_letter(\"m\", []) ➞ True"
   ]
  },
  {
   "cell_type": "code",
   "execution_count": 28,
   "metadata": {},
   "outputs": [],
   "source": [
    "def forbidden_letter(letter, words):\n",
    "    for i in words:\n",
    "        if letter in i:\n",
    "            return False\n",
    "    return True"
   ]
  },
  {
   "cell_type": "code",
   "execution_count": 29,
   "metadata": {},
   "outputs": [
    {
     "data": {
      "text/plain": [
       "True"
      ]
     },
     "execution_count": 29,
     "metadata": {},
     "output_type": "execute_result"
    }
   ],
   "source": [
    "forbidden_letter(\"a\", [\"spoon\", \"fork\", \"knife\"])"
   ]
  },
  {
   "cell_type": "markdown",
   "metadata": {},
   "source": [
    "# 12.  Define a function which create a Pattern like this one.  - 2 балла"
   ]
  },
  {
   "cell_type": "code",
   "execution_count": null,
   "metadata": {},
   "outputs": [],
   "source": [
    "Input: 4\n",
    "Pattern:\n",
    "\n",
    " 01234\n",
    "  | |     0\n",
    " -----    1\n",
    "  | |     2\n",
    " -----    3\n",
    "  | |     4"
   ]
  },
  {
   "cell_type": "code",
   "execution_count": 30,
   "metadata": {},
   "outputs": [],
   "source": [
    "def draw_pattern(n):\n",
    "    for i in range(n+1):\n",
    "        print(i, end = \"\")\n",
    "    print()\n",
    "    for i in range(n+1):\n",
    "        if i % 2 == 0:\n",
    "            print('  | |   '+ str(i))\n",
    "        else:\n",
    "            print(' -----  ' + str(i))"
   ]
  },
  {
   "cell_type": "code",
   "execution_count": 31,
   "metadata": {},
   "outputs": [
    {
     "name": "stdout",
     "output_type": "stream",
     "text": [
      "01234\n",
      "  | |   0\n",
      " -----  1\n",
      "  | |   2\n",
      " -----  3\n",
      "  | |   4\n"
     ]
    }
   ],
   "source": [
    "draw_pattern(4)"
   ]
  },
  {
   "cell_type": "markdown",
   "metadata": {},
   "source": [
    "# 13. Create a function that takes three numbers as arguments and returns True if it's a triangle and False if not.  - 0.5 балла"
   ]
  },
  {
   "cell_type": "code",
   "execution_count": null,
   "metadata": {},
   "outputs": [],
   "source": [
    "is_triangle(2, 3, 4) ➞ True\n",
    "\n",
    "is_triangle(3, 4, 5) ➞ True\n",
    "\n",
    "is_triangle(4, 3, 8) ➞ False"
   ]
  },
  {
   "cell_type": "code",
   "execution_count": 32,
   "metadata": {},
   "outputs": [],
   "source": [
    "def is_triangle(a, b, c):\n",
    "    if (a + b <= c) or (a + c <= b) or (b + c <= a):\n",
    "        return False\n",
    "    else:\n",
    "        return True"
   ]
  },
  {
   "cell_type": "code",
   "execution_count": 33,
   "metadata": {},
   "outputs": [
    {
     "data": {
      "text/plain": [
       "False"
      ]
     },
     "execution_count": 33,
     "metadata": {},
     "output_type": "execute_result"
    }
   ],
   "source": [
    "is_triangle(4, 3, 8)"
   ]
  },
  {
   "cell_type": "markdown",
   "metadata": {},
   "source": [
    "# 14. Create a \"Code\" Generator that takes text as input and replaces some letter with another letter, and outputs the \"encoded\" message. Create funcs to encode and decode messages"
   ]
  },
  {
   "cell_type": "code",
   "execution_count": null,
   "metadata": {},
   "outputs": [],
   "source": [
    "replacement = {\"a\": \"b\", \"d\": \"1\" ......}"
   ]
  }
 ],
 "metadata": {
  "kernelspec": {
   "display_name": "Python 3",
   "language": "python",
   "name": "python3"
  },
  "language_info": {
   "codemirror_mode": {
    "name": "ipython",
    "version": 3
   },
   "file_extension": ".py",
   "mimetype": "text/x-python",
   "name": "python",
   "nbconvert_exporter": "python",
   "pygments_lexer": "ipython3",
   "version": "3.8.5"
  }
 },
 "nbformat": 4,
 "nbformat_minor": 5
}
